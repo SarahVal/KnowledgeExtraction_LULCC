{
 "cells": [
  {
   "cell_type": "markdown",
   "id": "9f2e7d47",
   "metadata": {},
   "source": [
    "# Calculating annotators agreements during the annotation steps"
   ]
  },
  {
   "cell_type": "markdown",
   "id": "f8a0a3ec",
   "metadata": {},
   "source": [
    """
Created on Oct 2024
Author: Arthur_Crespin-Boucaud (arthur.crespin-boucaud@ird.fr)
"""
   ]
  },
  {
   "cell_type": "code",
   "execution_count": 61,
   "id": "f4b063d6",
   "metadata": {},
   "outputs": [],
   "source": [
    "import pandas as pd\n",
    "import numpy as np"
   ]
  },
  {
   "cell_type": "code",
   "execution_count": 62,
   "id": "7c913818",
   "metadata": {},
   "outputs": [],
   "source": [
    "from sklearn.metrics import cohen_kappa_score\n",
    "from statsmodels.stats.inter_rater import fleiss_kappa"
   ]
  },
  {
   "cell_type": "code",
   "execution_count": 63,
   "id": "39438af1",
   "metadata": {},
   "outputs": [],
   "source": [
    "# Count how many times each category was chosen for each item\n",
    "def count_categories(ratings, num_categories):\n",
    "    counts = np.zeros((ratings.shape[0], num_categories), dtype=int)\n",
    "    for i, item_ratings in enumerate(ratings):\n",
    "        for rating in item_ratings:\n",
    "            counts[i, rating - 1] += 1  # Assuming categories are 1-indexed\n",
    "    return counts\n",
    "\n",
    "def FleissKappa(annotation_round, corpus) :\n",
    "    if annotation_round > 0 :\n",
    "        df_round = corpus[corpus['annotation_round'] == annotation_round]\n",
    "        corpus_array = df_round[['A1','A2','A3']].to_numpy()\n",
    "        num_categories = len(set(corpus_array.flatten()))\n",
    "        category_counts = count_categories(corpus_array, num_categories)\n",
    "        kappa = fleiss_kappa(category_counts)\n",
    "        print(\"Fleiss' Kappa score : {} for round {}\".format(kappa, annotation_round))\n",
    "    else :\n",
    "        corpus_array = corpus[['A1','A2','A3']].to_numpy()\n",
    "        num_categories = len(set(corpus_array.flatten()))\n",
    "        category_counts = count_categories(corpus_array, num_categories)\n",
    "        kappa = fleiss_kappa(category_counts)\n",
    "        print(\"Fleiss' Kappa score : {} for the whole dataset\".format(kappa))\n"
   ]
  },
  {
   "cell_type": "code",
   "execution_count": 64,
   "id": "24900320",
   "metadata": {},
   "outputs": [],
   "source": [
    "def kappa(annotation_round, corpus) :\n",
    "    if annotation_round > 0 :\n",
    "        df_round = corpus[corpus['annotation_round'] == annotation_round]\n",
    "        y1 = df_round['A1'].tolist()\n",
    "        y2 = df_round['A2'].tolist()\n",
    "        y3 = df_round['A3'].tolist()\n",
    "        print(\"Kappa score between A1 and A2 : {} for round {}\".format(cohen_kappa_score(y1, y2), annotation_round))\n",
    "        print(\"Kappa score between A1 and A3 : {} for round {}\".format(cohen_kappa_score(y1, y3), annotation_round))\n",
    "        print(\"Kappa score between A2 and A3 : {} for round {}\".format(cohen_kappa_score(y2, y3), annotation_round))\n",
    "    else :\n",
    "        y1 = corpus['A1'].tolist()\n",
    "        y2 = corpus['A2'].tolist()\n",
    "        y3 = corpus['A3'].tolist()\n",
    "        print(\"Kappa score between A1 and A2 : {} for the whole dataset\".format(cohen_kappa_score(y1, y2)))\n",
    "        print(\"Kappa score between A1 and A3 : {} for the whole dataset\".format(cohen_kappa_score(y1, y3)))\n",
    "        print(\"Kappa score between A2 and A3 : {} for the whole dataset\".format(cohen_kappa_score(y2, y3)))\n",
    "\n",
    "\n",
    "def kappa_final(annotation_round, corpus) :\n",
    "    if annotation_round > 0 :\n",
    "        df_round = corpus[corpus['annotation_round'] == annotation_round]\n",
    "        y1 = df_round['A1'].tolist()\n",
    "        y2 = df_round['A2'].tolist()\n",
    "        y3 = df_round['A3'].tolist()\n",
    "        final = df_round['FINAL'].tolist()\n",
    "        print(\"Kappa score between A1 and final label : {} for round {}\".format(cohen_kappa_score(y1, final), annotation_round))\n",
    "        print(\"Kappa score between A2 and final label : {} for round {}\".format(cohen_kappa_score(y2, final), annotation_round))\n",
    "        print(\"Kappa score between A3 and final label : {} for round {}\".format(cohen_kappa_score(y3, final), annotation_round))\n",
    "    else : \n",
    "        y1 = corpus['A1'].tolist()\n",
    "        y2 = corpus['A2'].tolist()\n",
    "        y3 = corpus['A3'].tolist()\n",
    "        final = corpus['relevance_label'].tolist()\n",
    "        print(\"Kappa score between A1 and final label : {} for the whole dataset\".format(cohen_kappa_score(y1, final)))\n",
    "        print(\"Kappa score between A2 and final label : {} for the whole dataset\".format(cohen_kappa_score(y2, final)))\n",
    "        print(\"Kappa score between A3 and final label : {} for the whole dataset\".format(cohen_kappa_score(y3, final)))\n"
   ]
  },
  {
   "cell_type": "code",
   "execution_count": 65,
   "id": "79717ac8",
   "metadata": {},
   "outputs": [],
   "source": [
    "def agreement_score(annotation_round, corpus) :\n",
    "    if annotation_round > 0 :\n",
    "        df_round = corpus[corpus['annotation_round'] == annotation_round]\n",
    "        agreement = df_round[(df_round['A1'] == df_round['A2']) & (df_round['A2'] == df_round['A3'])]\n",
    "        print(\"Agreement score : {} for round {}\".format(len(agreement.index)*100/len(df_round.index), annotation_round))\n",
    "    else:\n",
    "        agreement = corpus[(corpus['A1'] == corpus['A2']) & (corpus['A2'] == corpus['A3'])]\n",
    "        print(\"Agreement score : {} for the whole dataset\".format(len(agreement.index)*100/len(corpus.index)))"
   ]
  },
  {
   "cell_type": "code",
   "execution_count": 66,
   "id": "549520d4-6238-46c0-9625-55b6712f9831",
   "metadata": {},
   "outputs": [],
   "source": [
    "def agreement_score2(corpus) :\n",
    "    agreement = corpus[(corpus['A2'] == corpus['A3'])]\n",
    "    print(\"Agreement score : {}\".format(len(agreement.index)*100/len(corpus.index)))\n",
    "\n",
    "def kappa_2(corpus) :\n",
    "    y2 = corpus['A2'].tolist()\n",
    "    y3 = corpus['A3'].tolist()\n",
    "    final = corpus['relevance_label'].tolist()\n",
    "    print(\"Kappa score between A2 and A3 : {}\".format(cohen_kappa_score(y2, y3)))\n",
    "    print(\"Kappa score between A2 and final label : {}\".format(cohen_kappa_score(y2, final)))\n",
    "    print(\"Kappa score between A3 and final label : {}\".format(cohen_kappa_score(y3, final)))\n",
    "    "
   ]
  },
  {
   "cell_type": "markdown",
   "id": "33d02da8",
   "metadata": {},
   "source": [
    "## 1. Inter-annotator agreement, 3 annotators"
   ]
  },
  {
   "cell_type": "code",
   "execution_count": 67,
   "id": "bc56b476",
   "metadata": {},
   "outputs": [
    {
     "data": {
      "text/html": [
       "<div>\n",
       "<style scoped>\n",
       "    .dataframe tbody tr th:only-of-type {\n",
       "        vertical-align: middle;\n",
       "    }\n",
       "\n",
       "    .dataframe tbody tr th {\n",
       "        vertical-align: top;\n",
       "    }\n",
       "\n",
       "    .dataframe thead th {\n",
       "        text-align: right;\n",
       "    }\n",
       "</style>\n",
       "<table border=\"1\" class=\"dataframe\">\n",
       "  <thead>\n",
       "    <tr style=\"text-align: right;\">\n",
       "      <th></th>\n",
       "      <th>id_segment</th>\n",
       "      <th>id_segment_old</th>\n",
       "      <th>text_segment</th>\n",
       "      <th>annotation_round</th>\n",
       "      <th>A1</th>\n",
       "      <th>A2</th>\n",
       "      <th>A3</th>\n",
       "      <th>relevance_label</th>\n",
       "      <th>relevance_type_norm</th>\n",
       "    </tr>\n",
       "  </thead>\n",
       "  <tbody>\n",
       "    <tr>\n",
       "      <th>0</th>\n",
       "      <td>1-s2.0-S0301479717300713-main_226b</td>\n",
       "      <td>1-s2.0-S0301479717300713-main.pdf.tei_103_pt2</td>\n",
       "      <td>#text': '(Lambin et al., 2003)'}], '#text': 'W...</td>\n",
       "      <td>3</td>\n",
       "      <td>1</td>\n",
       "      <td>0</td>\n",
       "      <td>0</td>\n",
       "      <td>0</td>\n",
       "      <td>NaN</td>\n",
       "    </tr>\n",
       "    <tr>\n",
       "      <th>1</th>\n",
       "      <td>1-s2.0-S0303243414001718-main_19b</td>\n",
       "      <td>NaN</td>\n",
       "      <td>#text': 'After the droughts in the 1970s and 1...</td>\n",
       "      <td>3</td>\n",
       "      <td>2</td>\n",
       "      <td>2</td>\n",
       "      <td>2</td>\n",
       "      <td>2</td>\n",
       "      <td>LULCC, DRIVERS</td>\n",
       "    </tr>\n",
       "    <tr>\n",
       "      <th>2</th>\n",
       "      <td>1-s2.0-S030438781000043X-mainext_313b</td>\n",
       "      <td>NaN</td>\n",
       "      <td>#text': 'Few investment opportunities are avai...</td>\n",
       "      <td>3</td>\n",
       "      <td>0</td>\n",
       "      <td>0</td>\n",
       "      <td>0</td>\n",
       "      <td>0</td>\n",
       "      <td>NaN</td>\n",
       "    </tr>\n",
       "    <tr>\n",
       "      <th>3</th>\n",
       "      <td>1-s2.0-S095937809800003X-main_75b</td>\n",
       "      <td>NaN</td>\n",
       "      <td>#text': 'Pastoral production has often existed...</td>\n",
       "      <td>3</td>\n",
       "      <td>0</td>\n",
       "      <td>0</td>\n",
       "      <td>1</td>\n",
       "      <td>1</td>\n",
       "      <td>PRACTICES</td>\n",
       "    </tr>\n",
       "    <tr>\n",
       "      <th>4</th>\n",
       "      <td>1-s2.0-S0006320709005400-main_16b</td>\n",
       "      <td>1-s2.0-S0006320709005400-main.pdf.tei_9_pt2</td>\n",
       "      <td>#text': 'The forests of West and Central Afric...</td>\n",
       "      <td>3</td>\n",
       "      <td>1</td>\n",
       "      <td>2</td>\n",
       "      <td>2</td>\n",
       "      <td>2</td>\n",
       "      <td>LULC</td>\n",
       "    </tr>\n",
       "  </tbody>\n",
       "</table>\n",
       "</div>"
      ],
      "text/plain": [
       "                              id_segment  \\\n",
       "0     1-s2.0-S0301479717300713-main_226b   \n",
       "1      1-s2.0-S0303243414001718-main_19b   \n",
       "2  1-s2.0-S030438781000043X-mainext_313b   \n",
       "3      1-s2.0-S095937809800003X-main_75b   \n",
       "4      1-s2.0-S0006320709005400-main_16b   \n",
       "\n",
       "                                  id_segment_old  \\\n",
       "0  1-s2.0-S0301479717300713-main.pdf.tei_103_pt2   \n",
       "1                                            NaN   \n",
       "2                                            NaN   \n",
       "3                                            NaN   \n",
       "4    1-s2.0-S0006320709005400-main.pdf.tei_9_pt2   \n",
       "\n",
       "                                        text_segment  annotation_round  A1  \\\n",
       "0  #text': '(Lambin et al., 2003)'}], '#text': 'W...                 3   1   \n",
       "1  #text': 'After the droughts in the 1970s and 1...                 3   2   \n",
       "2  #text': 'Few investment opportunities are avai...                 3   0   \n",
       "3  #text': 'Pastoral production has often existed...                 3   0   \n",
       "4  #text': 'The forests of West and Central Afric...                 3   1   \n",
       "\n",
       "   A2  A3  relevance_label relevance_type_norm  \n",
       "0   0   0                0                 NaN  \n",
       "1   2   2                2      LULCC, DRIVERS  \n",
       "2   0   0                0                 NaN  \n",
       "3   0   1                1           PRACTICES  \n",
       "4   2   2                2                LULC  "
      ]
     },
     "execution_count": 67,
     "metadata": {},
     "output_type": "execute_result"
    }
   ],
   "source": [
    "excel = \"corpus_three_annot.xlsx\"\n",
    "corpus_three_annot = pd.read_excel(excel)\n",
    "corpus_three_annot.head()"
   ]
  },
  {
   "cell_type": "code",
   "execution_count": 68,
   "id": "d8ebe461",
   "metadata": {},
   "outputs": [],
   "source": [
    "corpus_three_annot_12 = corpus_three_annot.copy()\n",
    "corpus_three_annot_12[['A1', 'A2', 'A3','relevance_label']] = corpus_three_annot_12[['A1', 'A2', 'A3','relevance_label']].replace(2,1)"
   ]
  },
  {
   "cell_type": "code",
   "execution_count": 69,
   "id": "c2953358",
   "metadata": {},
   "outputs": [],
   "source": [
    "corpus_three_annot['A1'] = corpus_three_annot['A1'].apply(lambda x: int(x))\n",
    "corpus_three_annot['A2'] = corpus_three_annot['A2'].apply(lambda x: int(x))\n",
    "corpus_three_annot['A3'] = corpus_three_annot['A3'].apply(lambda x: int(x))"
   ]
  },
  {
   "cell_type": "markdown",
   "id": "8d7d3b8a",
   "metadata": {},
   "source": [
    "### 1.1. Classes 1 & 2 separated"
   ]
  },
  {
   "cell_type": "markdown",
   "id": "5c9851f2",
   "metadata": {},
   "source": [
    "#### Fleiss Kappa"
   ]
  },
  {
   "cell_type": "code",
   "execution_count": 70,
   "id": "2d835e40",
   "metadata": {},
   "outputs": [
    {
     "name": "stdout",
     "output_type": "stream",
     "text": [
      "Fleiss' Kappa score : 0.2882321041214751 for round 1\n",
      "Fleiss' Kappa score : 0.4191406970311634 for round 2\n",
      "Fleiss' Kappa score : 0.4336062300319487 for round 3\n",
      "Fleiss' Kappa score : 0.3962413253063981 for the whole dataset\n"
     ]
    }
   ],
   "source": [
    "FleissKappa(1, corpus = corpus_three_annot)\n",
    "FleissKappa(2, corpus = corpus_three_annot)\n",
    "FleissKappa(3, corpus = corpus_three_annot)\n",
    "FleissKappa(0, corpus = corpus_three_annot)"
   ]
  },
  {
   "cell_type": "markdown",
   "id": "d1e12af7",
   "metadata": {},
   "source": [
    "#### Agreement score"
   ]
  },
  {
   "cell_type": "code",
   "execution_count": 71,
   "id": "cdf7a6b4",
   "metadata": {},
   "outputs": [
    {
     "name": "stdout",
     "output_type": "stream",
     "text": [
      "Agreement score : 32.0 for round 1\n"
     ]
    }
   ],
   "source": [
    "agreement_score(annotation_round = 1, corpus = corpus_three_annot)"
   ]
  },
  {
   "cell_type": "code",
   "execution_count": 72,
   "id": "21cf66b8",
   "metadata": {},
   "outputs": [
    {
     "name": "stdout",
     "output_type": "stream",
     "text": [
      "Agreement score : 60.0 for round 2\n"
     ]
    }
   ],
   "source": [
    "agreement_score(annotation_round = 2, corpus = corpus_three_annot)"
   ]
  },
  {
   "cell_type": "code",
   "execution_count": 73,
   "id": "1672d20c",
   "metadata": {},
   "outputs": [
    {
     "name": "stdout",
     "output_type": "stream",
     "text": [
      "Agreement score : 50.81967213114754 for round 3\n"
     ]
    }
   ],
   "source": [
    "agreement_score(annotation_round = 3, corpus = corpus_three_annot)"
   ]
  },
  {
   "cell_type": "code",
   "execution_count": 74,
   "id": "2e52a4a1-ed06-4f05-a0b4-239843150a8c",
   "metadata": {},
   "outputs": [
    {
     "name": "stdout",
     "output_type": "stream",
     "text": [
      "Agreement score : 47.82608695652174 for the whole dataset\n"
     ]
    }
   ],
   "source": [
    "agreement_score(annotation_round = 0, corpus = corpus_three_annot)"
   ]
  },
  {
   "cell_type": "markdown",
   "id": "a3dc4fc3",
   "metadata": {},
   "source": [
    "### 1.2. Classes 1 & 2 merged"
   ]
  },
  {
   "cell_type": "markdown",
   "id": "f83c1cf6",
   "metadata": {},
   "source": [
    "#### Fleiss Kappa"
   ]
  },
  {
   "cell_type": "code",
   "execution_count": 75,
   "id": "e31b243b",
   "metadata": {},
   "outputs": [
    {
     "name": "stdout",
     "output_type": "stream",
     "text": [
      "Fleiss' Kappa score : 0.28519061583577704 for round 1\n",
      "Fleiss' Kappa score : 0.4485294117647058 for round 2\n",
      "Fleiss' Kappa score : 0.5598845598845598 for round 3\n",
      "Fleiss' Kappa score : 0.4657449014863461 for the whole dataset\n"
     ]
    }
   ],
   "source": [
    "FleissKappa(1, corpus = corpus_three_annot_12)\n",
    "FleissKappa(2, corpus = corpus_three_annot_12)\n",
    "FleissKappa(3, corpus = corpus_three_annot_12)\n",
    "FleissKappa(0, corpus = corpus_three_annot_12)"
   ]
  },
  {
   "cell_type": "markdown",
   "id": "a1ba1b0e",
   "metadata": {},
   "source": [
    "#### Agreement score"
   ]
  },
  {
   "cell_type": "code",
   "execution_count": 76,
   "id": "49bc2d19",
   "metadata": {},
   "outputs": [
    {
     "name": "stdout",
     "output_type": "stream",
     "text": [
      "Agreement score : 48.0 for round 1\n"
     ]
    }
   ],
   "source": [
    "agreement_score(annotation_round = 1, corpus = corpus_three_annot_12)"
   ]
  },
  {
   "cell_type": "code",
   "execution_count": 77,
   "id": "df930c87",
   "metadata": {},
   "outputs": [
    {
     "name": "stdout",
     "output_type": "stream",
     "text": [
      "Agreement score : 64.0 for round 2\n"
     ]
    }
   ],
   "source": [
    "agreement_score(annotation_round = 2, corpus = corpus_three_annot_12)"
   ]
  },
  {
   "cell_type": "code",
   "execution_count": 78,
   "id": "37796b6c",
   "metadata": {},
   "outputs": [
    {
     "name": "stdout",
     "output_type": "stream",
     "text": [
      "Agreement score : 67.21311475409836 for round 3\n"
     ]
    }
   ],
   "source": [
    "agreement_score(annotation_round = 3, corpus = corpus_three_annot_12)"
   ]
  },
  {
   "cell_type": "code",
   "execution_count": 79,
   "id": "ce93e8dc",
   "metadata": {},
   "outputs": [
    {
     "name": "stdout",
     "output_type": "stream",
     "text": [
      "Agreement score : 60.24844720496895 for the whole dataset\n"
     ]
    }
   ],
   "source": [
    "agreement_score(annotation_round = 0, corpus = corpus_three_annot_12)"
   ]
  },
  {
   "cell_type": "markdown",
   "id": "24f864b7-178a-4150-aaf2-a0f8b00d991a",
   "metadata": {},
   "source": [
    "## 2. Inter-annotator agreement, 2 annotators"
   ]
  },
  {
   "cell_type": "code",
   "execution_count": 80,
   "id": "9c34806e-38ff-4ded-840f-24fff126ad0b",
   "metadata": {},
   "outputs": [
    {
     "data": {
      "text/html": [
       "<div>\n",
       "<style scoped>\n",
       "    .dataframe tbody tr th:only-of-type {\n",
       "        vertical-align: middle;\n",
       "    }\n",
       "\n",
       "    .dataframe tbody tr th {\n",
       "        vertical-align: top;\n",
       "    }\n",
       "\n",
       "    .dataframe thead th {\n",
       "        text-align: right;\n",
       "    }\n",
       "</style>\n",
       "<table border=\"1\" class=\"dataframe\">\n",
       "  <thead>\n",
       "    <tr style=\"text-align: right;\">\n",
       "      <th></th>\n",
       "      <th>id_segment</th>\n",
       "      <th>id_segment_old</th>\n",
       "      <th>text_segment</th>\n",
       "      <th>A2</th>\n",
       "      <th>relevance_type_A2</th>\n",
       "      <th>A3</th>\n",
       "      <th>relevance_type_A3</th>\n",
       "      <th>relevance_type</th>\n",
       "      <th>relevance_label</th>\n",
       "      <th>relevance_type_norm</th>\n",
       "    </tr>\n",
       "  </thead>\n",
       "  <tbody>\n",
       "    <tr>\n",
       "      <th>0</th>\n",
       "      <td>1-s2.0-S0304387816300670-main_112</td>\n",
       "      <td>1-s2.0-S0301479717300713-main.pdf.tei_82</td>\n",
       "      <td>(2004)'}], '#text': 'With regard to population...</td>\n",
       "      <td>1</td>\n",
       "      <td>DRIVERS</td>\n",
       "      <td>2</td>\n",
       "      <td>Drivers</td>\n",
       "      <td>DRIVERS</td>\n",
       "      <td>1</td>\n",
       "      <td>DRIVERS</td>\n",
       "    </tr>\n",
       "    <tr>\n",
       "      <th>1</th>\n",
       "      <td>1-s2.0-S235198941500102X-main_233</td>\n",
       "      <td>1-s2.0-S235198941500102X-main.pdf.tei_62</td>\n",
       "      <td>(%)', '100', '37.25', '93.25', '75.58', '94.24...</td>\n",
       "      <td>0</td>\n",
       "      <td>NaN</td>\n",
       "      <td>0</td>\n",
       "      <td>TABLE</td>\n",
       "      <td>NaN</td>\n",
       "      <td>0</td>\n",
       "      <td>NaN</td>\n",
       "    </tr>\n",
       "    <tr>\n",
       "      <th>2</th>\n",
       "      <td>s10113-015-0891-1_24</td>\n",
       "      <td>1-s2.0-S0168192311001122-main.pdf.tei_80</td>\n",
       "      <td>On the other hand, whereas the combination of ...</td>\n",
       "      <td>0</td>\n",
       "      <td>NaN</td>\n",
       "      <td>0</td>\n",
       "      <td>NaN</td>\n",
       "      <td>NaN</td>\n",
       "      <td>0</td>\n",
       "      <td>NaN</td>\n",
       "    </tr>\n",
       "    <tr>\n",
       "      <th>3</th>\n",
       "      <td>1-s2.0-S0167880913003502-main_358</td>\n",
       "      <td>1-s2.0-S0167880913003502-main.pdf.tei_123</td>\n",
       "      <td>Whilst Blanco-Canqui and stress those similar ...</td>\n",
       "      <td>0</td>\n",
       "      <td>NaN</td>\n",
       "      <td>0</td>\n",
       "      <td>NaN</td>\n",
       "      <td>NaN</td>\n",
       "      <td>0</td>\n",
       "      <td>NaN</td>\n",
       "    </tr>\n",
       "    <tr>\n",
       "      <th>4</th>\n",
       "      <td>1-s2.0-S030438781000043X-mainext_610</td>\n",
       "      <td>1-s2.0-S030438781000043X-mainext.pdf.tei_75</td>\n",
       "      <td>In addition to land ownership, the regressions...</td>\n",
       "      <td>0</td>\n",
       "      <td>NaN</td>\n",
       "      <td>0</td>\n",
       "      <td>NaN</td>\n",
       "      <td>NaN</td>\n",
       "      <td>0</td>\n",
       "      <td>NaN</td>\n",
       "    </tr>\n",
       "  </tbody>\n",
       "</table>\n",
       "</div>"
      ],
      "text/plain": [
       "                             id_segment  \\\n",
       "0     1-s2.0-S0304387816300670-main_112   \n",
       "1     1-s2.0-S235198941500102X-main_233   \n",
       "2                  s10113-015-0891-1_24   \n",
       "3     1-s2.0-S0167880913003502-main_358   \n",
       "4  1-s2.0-S030438781000043X-mainext_610   \n",
       "\n",
       "                                id_segment_old  \\\n",
       "0     1-s2.0-S0301479717300713-main.pdf.tei_82   \n",
       "1     1-s2.0-S235198941500102X-main.pdf.tei_62   \n",
       "2     1-s2.0-S0168192311001122-main.pdf.tei_80   \n",
       "3    1-s2.0-S0167880913003502-main.pdf.tei_123   \n",
       "4  1-s2.0-S030438781000043X-mainext.pdf.tei_75   \n",
       "\n",
       "                                        text_segment  A2 relevance_type_A2  \\\n",
       "0  (2004)'}], '#text': 'With regard to population...   1           DRIVERS   \n",
       "1  (%)', '100', '37.25', '93.25', '75.58', '94.24...   0               NaN   \n",
       "2  On the other hand, whereas the combination of ...   0               NaN   \n",
       "3  Whilst Blanco-Canqui and stress those similar ...   0               NaN   \n",
       "4  In addition to land ownership, the regressions...   0               NaN   \n",
       "\n",
       "   A3 relevance_type_A3 relevance_type  relevance_label relevance_type_norm  \n",
       "0   2           Drivers        DRIVERS                1             DRIVERS  \n",
       "1   0             TABLE            NaN                0                 NaN  \n",
       "2   0               NaN            NaN                0                 NaN  \n",
       "3   0               NaN            NaN                0                 NaN  \n",
       "4   0               NaN            NaN                0                 NaN  "
      ]
     },
     "execution_count": 80,
     "metadata": {},
     "output_type": "execute_result"
    }
   ],
   "source": [
    "excel = \"corpus_two_annot.xlsx\"\n",
    "corpus_two_annot = pd.read_excel(excel)\n",
    "corpus_two_annot.head()"
   ]
  },
  {
   "cell_type": "markdown",
   "id": "c9879023",
   "metadata": {},
   "source": [
    "### 2.1. Classes 1 & 2 separated"
   ]
  },
  {
   "cell_type": "code",
   "execution_count": 81,
   "id": "cbb405e0-89c5-477d-bf60-bc18c8243195",
   "metadata": {},
   "outputs": [
    {
     "name": "stdout",
     "output_type": "stream",
     "text": [
      "Kappa score between A2 and A3 : 0.6989473684210525\n",
      "Kappa score between A2 and final label : 0.8519079104596511\n",
      "Kappa score between A3 and final label : 0.8484304932735426\n"
     ]
    }
   ],
   "source": [
    "kappa_2(corpus_two_annot)"
   ]
  },
  {
   "cell_type": "code",
   "execution_count": 82,
   "id": "9c2723a3-8659-482e-aebd-d5f0dc5930f0",
   "metadata": {},
   "outputs": [
    {
     "name": "stdout",
     "output_type": "stream",
     "text": [
      "Agreement score : 86.98224852071006\n"
     ]
    }
   ],
   "source": [
    "agreement_score2(corpus_two_annot)"
   ]
  },
  {
   "cell_type": "markdown",
   "id": "2c366770-7e0e-44df-b90e-5166380104d7",
   "metadata": {},
   "source": [
    "### 2.2. Classes 1 & 2 merged"
   ]
  },
  {
   "cell_type": "code",
   "execution_count": 83,
   "id": "54a0afb6-23f4-449b-8a83-23fb44bb003b",
   "metadata": {},
   "outputs": [],
   "source": [
    "corpus_two_annot_12 = corpus_two_annot.copy()\n",
    "corpus_two_annot_12[['A2', 'A3','relevance_label']] = corpus_two_annot_12[[ 'A2', 'A3','relevance_label']].replace(2,1)"
   ]
  },
  {
   "cell_type": "code",
   "execution_count": 84,
   "id": "a95b0d48-3ad4-4888-b42d-d564d17e9fab",
   "metadata": {},
   "outputs": [
    {
     "name": "stdout",
     "output_type": "stream",
     "text": [
      "Kappa score between A2 and A3 : 0.8208163986570065\n",
      "Kappa score between A2 and final label : 0.9115800488315312\n",
      "Kappa score between A3 and final label : 0.9104081993285033\n",
      "Agreement score : 92.89940828402366\n"
     ]
    }
   ],
   "source": [
    "kappa_2(corpus=corpus_two_annot_12)\n",
    "agreement_score2(corpus=corpus_two_annot_12)"
   ]
  },
  {
   "cell_type": "code",
   "execution_count": null,
   "id": "9b1a968a",
   "metadata": {},
   "outputs": [],
   "source": []
  }
 ],
 "metadata": {
  "kernelspec": {
   "display_name": "Python 3 (ipykernel)",
   "language": "python",
   "name": "python3"
  },
  "language_info": {
   "codemirror_mode": {
    "name": "ipython",
    "version": 3
   },
   "file_extension": ".py",
   "mimetype": "text/x-python",
   "name": "python",
   "nbconvert_exporter": "python",
   "pygments_lexer": "ipython3",
   "version": "3.10.9"
  }
 },
 "nbformat": 4,
 "nbformat_minor": 5
}
