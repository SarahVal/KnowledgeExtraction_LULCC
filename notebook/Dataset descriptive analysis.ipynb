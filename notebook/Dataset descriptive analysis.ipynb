{
 "cells": [
  {
   "cell_type": "markdown",
   "id": "4d5c3257",
   "metadata": {},
   "source": [
    "# Dataset (annotated corpus) descriptive analysis"
   ]
  },
  {
   "cell_type": "code",
   "execution_count": 1,
   "id": "39fa37ef",
   "metadata": {},
   "outputs": [],
   "source": [
    "import pandas as pd\n",
    "import numpy as np\n",
    "\n",
    "excel1 = \"corpus_three_annot.xlsx\"\n",
    "excel2 = \"corpus_two_annot.xlsx\"\n",
    "corpus1 = pd.read_excel(excel1)\n",
    "corpus2 = pd.read_excel(excel2)"
   ]
  },
  {
   "cell_type": "markdown",
   "id": "2534a24c",
   "metadata": {},
   "source": [
    "## 1. Annotated corpus"
   ]
  },
  {
   "cell_type": "markdown",
   "id": "20c6c099",
   "metadata": {},
   "source": [
    "### 1. 1. Length & relevance labels"
   ]
  },
  {
   "cell_type": "code",
   "execution_count": 2,
   "id": "8b4c354f",
   "metadata": {},
   "outputs": [
    {
     "name": "stdout",
     "output_type": "stream",
     "text": [
      "Lenght corpus 1 : 161\n"
     ]
    }
   ],
   "source": [
    "corpus1 = corpus1[[\"id_segment\", 'text_segment', \"relevance_label\", \"relevance_type_norm\"]]\n",
    "print(\"Lenght corpus 1 : {}\".format(len(corpus1.index)))"
   ]
  },
  {
   "cell_type": "code",
   "execution_count": 3,
   "id": "bded9906",
   "metadata": {},
   "outputs": [
    {
     "name": "stdout",
     "output_type": "stream",
     "text": [
      "Lenght corpus 2 : 169\n"
     ]
    }
   ],
   "source": [
    "corpus2 = corpus2[[\"id_segment\", 'text_segment', \"relevance_label\", \"relevance_type_norm\"]]\n",
    "print(\"Lenght corpus 2 : {}\".format(len(corpus2.index)))"
   ]
  },
  {
   "cell_type": "code",
   "execution_count": 4,
   "id": "53472b98",
   "metadata": {},
   "outputs": [
    {
     "data": {
      "text/plain": [
       "330"
      ]
     },
     "execution_count": 4,
     "metadata": {},
     "output_type": "execute_result"
    }
   ],
   "source": [
    "annotated_corpus = pd.concat([corpus1, corpus2])\n",
    "len(annotated_corpus.index)"
   ]
  },
  {
   "cell_type": "code",
   "execution_count": 5,
   "id": "a023b31b",
   "metadata": {},
   "outputs": [
    {
     "data": {
      "text/html": [
       "<div>\n",
       "<style scoped>\n",
       "    .dataframe tbody tr th:only-of-type {\n",
       "        vertical-align: middle;\n",
       "    }\n",
       "\n",
       "    .dataframe tbody tr th {\n",
       "        vertical-align: top;\n",
       "    }\n",
       "\n",
       "    .dataframe thead th {\n",
       "        text-align: right;\n",
       "    }\n",
       "</style>\n",
       "<table border=\"1\" class=\"dataframe\">\n",
       "  <thead>\n",
       "    <tr style=\"text-align: right;\">\n",
       "      <th></th>\n",
       "      <th>relevance_label</th>\n",
       "      <th>freq</th>\n",
       "    </tr>\n",
       "  </thead>\n",
       "  <tbody>\n",
       "    <tr>\n",
       "      <th>0</th>\n",
       "      <td>218</td>\n",
       "      <td>66.1</td>\n",
       "    </tr>\n",
       "    <tr>\n",
       "      <th>1</th>\n",
       "      <td>71</td>\n",
       "      <td>21.5</td>\n",
       "    </tr>\n",
       "    <tr>\n",
       "      <th>2</th>\n",
       "      <td>41</td>\n",
       "      <td>12.4</td>\n",
       "    </tr>\n",
       "  </tbody>\n",
       "</table>\n",
       "</div>"
      ],
      "text/plain": [
       "   relevance_label  freq\n",
       "0              218  66.1\n",
       "1               71  21.5\n",
       "2               41  12.4"
      ]
     },
     "execution_count": 5,
     "metadata": {},
     "output_type": "execute_result"
    }
   ],
   "source": [
    "df_descr = pd.DataFrame(annotated_corpus[\"relevance_label\"].value_counts())\n",
    "df_descr['freq'] = round(df_descr['relevance_label']*100/sum(df_descr['relevance_label']),1)\n",
    "df_descr"
   ]
  },
  {
   "cell_type": "code",
   "execution_count": 6,
   "id": "72bebfbf",
   "metadata": {},
   "outputs": [],
   "source": [
    "annotated_corpus[\"nb_tokens\"] = annotated_corpus[\"text_segment\"].apply(lambda x:len(x.split(' ')))"
   ]
  },
  {
   "cell_type": "code",
   "execution_count": 7,
   "id": "b65b6e90",
   "metadata": {},
   "outputs": [
    {
     "name": "stdout",
     "output_type": "stream",
     "text": [
      "Number of tokens per segment: Min : 6, Max : 645, Mean : 47\n"
     ]
    }
   ],
   "source": [
    "print('Number of tokens per segment: Min : {}, Max : {}, Mean : {}'.format(annotated_corpus[\"nb_tokens\"].min(),\n",
    "                                             annotated_corpus[\"nb_tokens\"].max(),\n",
    "                                             round(annotated_corpus[\"nb_tokens\"].mean())))"
   ]
  },
  {
   "cell_type": "markdown",
   "id": "c74b0ef0",
   "metadata": {},
   "source": [
    "### 1. 2. Topics (relevance_type column)"
   ]
  },
  {
   "cell_type": "code",
   "execution_count": 8,
   "id": "215e4954",
   "metadata": {},
   "outputs": [],
   "source": [
    "def topic_present(text, topic):\n",
    "    text = str(text)\n",
    "    # Séparer les éléments par des virgules et supprimer les espaces\n",
    "    sous_elements = [e.strip() for e in text.split(',')]\n",
    "    # Vérifier si l'élément exact est présent\n",
    "    if topic in sous_elements:\n",
    "        return True\n",
    "    return False\n",
    "\n",
    "for ent in ['LULCC', 'LULC', 'DRIVERS', 'PRACTICES'] :\n",
    "    annotated_corpus[ent] = annotated_corpus['relevance_type_norm'].apply(lambda x:topic_present(x,ent))"
   ]
  },
  {
   "cell_type": "code",
   "execution_count": 9,
   "id": "1fdc7e5c",
   "metadata": {},
   "outputs": [
    {
     "data": {
      "text/plain": [
       "LULCC                        29\n",
       "PRACTICES                    22\n",
       "DRIVERS                      18\n",
       "DRIVERS, LULCC               11\n",
       "LULC                          7\n",
       "DRIVERS, PRACTICES            6\n",
       "LULCC, DRIVERS                5\n",
       "LULC, PRACTICES               4\n",
       "PRACTICES, DRIVERS            3\n",
       "LULCC, PRACTICES              3\n",
       "LULCC, DRIVERS, PRACTICES     1\n",
       "PRACTICES, LULCC              1\n",
       "DRIVERS, LULC                 1\n",
       "DRIVERS, LULCC, PRACTICES     1\n",
       "Name: relevance_type_norm, dtype: int64"
      ]
     },
     "execution_count": 9,
     "metadata": {},
     "output_type": "execute_result"
    }
   ],
   "source": [
    "annotated_corpus[annotated_corpus[\"relevance_label\"].isin([1,2])][\"relevance_type_norm\"].value_counts()"
   ]
  },
  {
   "cell_type": "code",
   "execution_count": 10,
   "id": "17ee71f2",
   "metadata": {},
   "outputs": [],
   "source": [
    "n_class1 = len(annotated_corpus[annotated_corpus['relevance_label']==1].index)\n",
    "n_class2 = len(annotated_corpus[annotated_corpus['relevance_label']==2].index)\n",
    "n = [n_class1, n_class1, n_class2, n_class2]"
   ]
  },
  {
   "cell_type": "code",
   "execution_count": 11,
   "id": "3c26b039",
   "metadata": {},
   "outputs": [
    {
     "data": {
      "text/plain": [
       "[71, 71, 41, 41]"
      ]
     },
     "execution_count": 11,
     "metadata": {},
     "output_type": "execute_result"
    }
   ],
   "source": [
    "n"
   ]
  },
  {
   "cell_type": "code",
   "execution_count": 12,
   "id": "3bc3cd9e",
   "metadata": {},
   "outputs": [
    {
     "data": {
      "text/html": [
       "<div>\n",
       "<style scoped>\n",
       "    .dataframe tbody tr th:only-of-type {\n",
       "        vertical-align: middle;\n",
       "    }\n",
       "\n",
       "    .dataframe tbody tr th {\n",
       "        vertical-align: top;\n",
       "    }\n",
       "\n",
       "    .dataframe thead th {\n",
       "        text-align: right;\n",
       "    }\n",
       "</style>\n",
       "<table border=\"1\" class=\"dataframe\">\n",
       "  <thead>\n",
       "    <tr style=\"text-align: right;\">\n",
       "      <th></th>\n",
       "      <th>relevance_label</th>\n",
       "      <th>LULCC</th>\n",
       "      <th>count</th>\n",
       "      <th>freq</th>\n",
       "    </tr>\n",
       "  </thead>\n",
       "  <tbody>\n",
       "    <tr>\n",
       "      <th>0</th>\n",
       "      <td>1</td>\n",
       "      <td>False</td>\n",
       "      <td>45</td>\n",
       "      <td>63.4</td>\n",
       "    </tr>\n",
       "    <tr>\n",
       "      <th>1</th>\n",
       "      <td>1</td>\n",
       "      <td>True</td>\n",
       "      <td>26</td>\n",
       "      <td>36.6</td>\n",
       "    </tr>\n",
       "    <tr>\n",
       "      <th>2</th>\n",
       "      <td>2</td>\n",
       "      <td>False</td>\n",
       "      <td>16</td>\n",
       "      <td>39.0</td>\n",
       "    </tr>\n",
       "    <tr>\n",
       "      <th>3</th>\n",
       "      <td>2</td>\n",
       "      <td>True</td>\n",
       "      <td>25</td>\n",
       "      <td>61.0</td>\n",
       "    </tr>\n",
       "  </tbody>\n",
       "</table>\n",
       "</div>"
      ],
      "text/plain": [
       "   relevance_label  LULCC  count  freq\n",
       "0                1  False     45  63.4\n",
       "1                1   True     26  36.6\n",
       "2                2  False     16  39.0\n",
       "3                2   True     25  61.0"
      ]
     },
     "execution_count": 12,
     "metadata": {},
     "output_type": "execute_result"
    }
   ],
   "source": [
    "LULCC_count = annotated_corpus[annotated_corpus['relevance_label'].isin([1,2])].groupby(['relevance_label', \"LULCC\"]).size().reset_index(name='count')\n",
    "LULCC_count['freq'] = round(100*LULCC_count['count']/n,1)\n",
    "LULCC_count"
   ]
  },
  {
   "cell_type": "code",
   "execution_count": 13,
   "id": "dd412339",
   "metadata": {},
   "outputs": [
    {
     "data": {
      "text/html": [
       "<div>\n",
       "<style scoped>\n",
       "    .dataframe tbody tr th:only-of-type {\n",
       "        vertical-align: middle;\n",
       "    }\n",
       "\n",
       "    .dataframe tbody tr th {\n",
       "        vertical-align: top;\n",
       "    }\n",
       "\n",
       "    .dataframe thead th {\n",
       "        text-align: right;\n",
       "    }\n",
       "</style>\n",
       "<table border=\"1\" class=\"dataframe\">\n",
       "  <thead>\n",
       "    <tr style=\"text-align: right;\">\n",
       "      <th></th>\n",
       "      <th>relevance_label</th>\n",
       "      <th>LULC</th>\n",
       "      <th>count</th>\n",
       "      <th>freq</th>\n",
       "    </tr>\n",
       "  </thead>\n",
       "  <tbody>\n",
       "    <tr>\n",
       "      <th>0</th>\n",
       "      <td>1</td>\n",
       "      <td>False</td>\n",
       "      <td>64</td>\n",
       "      <td>90.1</td>\n",
       "    </tr>\n",
       "    <tr>\n",
       "      <th>1</th>\n",
       "      <td>1</td>\n",
       "      <td>True</td>\n",
       "      <td>7</td>\n",
       "      <td>9.9</td>\n",
       "    </tr>\n",
       "    <tr>\n",
       "      <th>2</th>\n",
       "      <td>2</td>\n",
       "      <td>False</td>\n",
       "      <td>36</td>\n",
       "      <td>87.8</td>\n",
       "    </tr>\n",
       "    <tr>\n",
       "      <th>3</th>\n",
       "      <td>2</td>\n",
       "      <td>True</td>\n",
       "      <td>5</td>\n",
       "      <td>12.2</td>\n",
       "    </tr>\n",
       "  </tbody>\n",
       "</table>\n",
       "</div>"
      ],
      "text/plain": [
       "   relevance_label   LULC  count  freq\n",
       "0                1  False     64  90.1\n",
       "1                1   True      7   9.9\n",
       "2                2  False     36  87.8\n",
       "3                2   True      5  12.2"
      ]
     },
     "execution_count": 13,
     "metadata": {},
     "output_type": "execute_result"
    }
   ],
   "source": [
    "LULC_count = annotated_corpus[annotated_corpus['relevance_label'].isin([1,2])].groupby(['relevance_label', \"LULC\"]).size().reset_index(name='count')\n",
    "LULC_count['freq'] = round(100*LULC_count['count']/n,1)\n",
    "LULC_count"
   ]
  },
  {
   "cell_type": "code",
   "execution_count": 14,
   "id": "c3dda28b",
   "metadata": {},
   "outputs": [
    {
     "data": {
      "text/html": [
       "<div>\n",
       "<style scoped>\n",
       "    .dataframe tbody tr th:only-of-type {\n",
       "        vertical-align: middle;\n",
       "    }\n",
       "\n",
       "    .dataframe tbody tr th {\n",
       "        vertical-align: top;\n",
       "    }\n",
       "\n",
       "    .dataframe thead th {\n",
       "        text-align: right;\n",
       "    }\n",
       "</style>\n",
       "<table border=\"1\" class=\"dataframe\">\n",
       "  <thead>\n",
       "    <tr style=\"text-align: right;\">\n",
       "      <th></th>\n",
       "      <th>relevance_label</th>\n",
       "      <th>DRIVERS</th>\n",
       "      <th>count</th>\n",
       "      <th>freq</th>\n",
       "    </tr>\n",
       "  </thead>\n",
       "  <tbody>\n",
       "    <tr>\n",
       "      <th>0</th>\n",
       "      <td>1</td>\n",
       "      <td>False</td>\n",
       "      <td>38</td>\n",
       "      <td>53.5</td>\n",
       "    </tr>\n",
       "    <tr>\n",
       "      <th>1</th>\n",
       "      <td>1</td>\n",
       "      <td>True</td>\n",
       "      <td>33</td>\n",
       "      <td>46.5</td>\n",
       "    </tr>\n",
       "    <tr>\n",
       "      <th>2</th>\n",
       "      <td>2</td>\n",
       "      <td>False</td>\n",
       "      <td>28</td>\n",
       "      <td>68.3</td>\n",
       "    </tr>\n",
       "    <tr>\n",
       "      <th>3</th>\n",
       "      <td>2</td>\n",
       "      <td>True</td>\n",
       "      <td>13</td>\n",
       "      <td>31.7</td>\n",
       "    </tr>\n",
       "  </tbody>\n",
       "</table>\n",
       "</div>"
      ],
      "text/plain": [
       "   relevance_label  DRIVERS  count  freq\n",
       "0                1    False     38  53.5\n",
       "1                1     True     33  46.5\n",
       "2                2    False     28  68.3\n",
       "3                2     True     13  31.7"
      ]
     },
     "execution_count": 14,
     "metadata": {},
     "output_type": "execute_result"
    }
   ],
   "source": [
    "DRIVERS_count = annotated_corpus[annotated_corpus['relevance_label'].isin([1,2])].groupby(['relevance_label', \"DRIVERS\"]).size().reset_index(name='count')\n",
    "DRIVERS_count['freq'] = round(100*DRIVERS_count['count']/n,1)\n",
    "DRIVERS_count"
   ]
  },
  {
   "cell_type": "code",
   "execution_count": 15,
   "id": "805c8df6",
   "metadata": {},
   "outputs": [
    {
     "data": {
      "text/html": [
       "<div>\n",
       "<style scoped>\n",
       "    .dataframe tbody tr th:only-of-type {\n",
       "        vertical-align: middle;\n",
       "    }\n",
       "\n",
       "    .dataframe tbody tr th {\n",
       "        vertical-align: top;\n",
       "    }\n",
       "\n",
       "    .dataframe thead th {\n",
       "        text-align: right;\n",
       "    }\n",
       "</style>\n",
       "<table border=\"1\" class=\"dataframe\">\n",
       "  <thead>\n",
       "    <tr style=\"text-align: right;\">\n",
       "      <th></th>\n",
       "      <th>relevance_label</th>\n",
       "      <th>PRACTICES</th>\n",
       "      <th>count</th>\n",
       "      <th>freq</th>\n",
       "    </tr>\n",
       "  </thead>\n",
       "  <tbody>\n",
       "    <tr>\n",
       "      <th>0</th>\n",
       "      <td>1</td>\n",
       "      <td>False</td>\n",
       "      <td>48</td>\n",
       "      <td>67.6</td>\n",
       "    </tr>\n",
       "    <tr>\n",
       "      <th>1</th>\n",
       "      <td>1</td>\n",
       "      <td>True</td>\n",
       "      <td>23</td>\n",
       "      <td>32.4</td>\n",
       "    </tr>\n",
       "    <tr>\n",
       "      <th>2</th>\n",
       "      <td>2</td>\n",
       "      <td>False</td>\n",
       "      <td>23</td>\n",
       "      <td>56.1</td>\n",
       "    </tr>\n",
       "    <tr>\n",
       "      <th>3</th>\n",
       "      <td>2</td>\n",
       "      <td>True</td>\n",
       "      <td>18</td>\n",
       "      <td>43.9</td>\n",
       "    </tr>\n",
       "  </tbody>\n",
       "</table>\n",
       "</div>"
      ],
      "text/plain": [
       "   relevance_label  PRACTICES  count  freq\n",
       "0                1      False     48  67.6\n",
       "1                1       True     23  32.4\n",
       "2                2      False     23  56.1\n",
       "3                2       True     18  43.9"
      ]
     },
     "execution_count": 15,
     "metadata": {},
     "output_type": "execute_result"
    }
   ],
   "source": [
    "PRACTICES_count = annotated_corpus[annotated_corpus['relevance_label'].isin([1,2])].groupby(['relevance_label', \"PRACTICES\"]).size().reset_index(name='count')\n",
    "PRACTICES_count['freq'] = round(100*PRACTICES_count['count']/n,1)\n",
    "PRACTICES_count"
   ]
  },
  {
   "cell_type": "markdown",
   "id": "a9b1a5a9",
   "metadata": {},
   "source": [
    "## 2. All corpus"
   ]
  },
  {
   "cell_type": "code",
   "execution_count": null,
   "id": "a72e4d1c",
   "metadata": {},
   "outputs": [],
   "source": [
    "all_corpus = pd.read_excel(\"all_corpus_processed.xlsx\")\n",
    "len(all_corpus.index)"
   ]
  },
  {
   "cell_type": "markdown",
   "id": "d59bbb90",
   "metadata": {},
   "source": [
    "Number of candidates segments (matching with the nomenclature)"
   ]
  },
  {
   "cell_type": "code",
   "execution_count": null,
   "id": "2345cd9f",
   "metadata": {},
   "outputs": [],
   "source": [
    "len(all_corpus[all_corpus['match'] == 1].index)"
   ]
  },
  {
   "cell_type": "code",
   "execution_count": null,
   "id": "7ddf18b6",
   "metadata": {},
   "outputs": [],
   "source": []
  }
 ],
 "metadata": {
  "kernelspec": {
   "display_name": "Python 3 (ipykernel)",
   "language": "python",
   "name": "python3"
  },
  "language_info": {
   "codemirror_mode": {
    "name": "ipython",
    "version": 3
   },
   "file_extension": ".py",
   "mimetype": "text/x-python",
   "name": "python",
   "nbconvert_exporter": "python",
   "pygments_lexer": "ipython3",
   "version": "3.10.9"
  }
 },
 "nbformat": 4,
 "nbformat_minor": 5
}
