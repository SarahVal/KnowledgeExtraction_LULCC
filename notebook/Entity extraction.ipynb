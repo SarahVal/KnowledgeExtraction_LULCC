{
 "cells": [
  {
   "cell_type": "markdown",
   "id": "ed1e614d",
   "metadata": {},
   "source": [
    "# Entity extraction"
   ]
  },
  {
   "cell_type": "code",
   "execution_count": 1,
   "id": "39fa37ef",
   "metadata": {},
   "outputs": [],
   "source": [
    "import pandas as pd\n",
    "import numpy as np\n",
    "import re"
   ]
  },
  {
   "cell_type": "markdown",
   "id": "2534a24c",
   "metadata": {},
   "source": [
    "## 1. Loading the data"
   ]
  },
  {
   "cell_type": "code",
   "execution_count": 2,
   "id": "070a72da",
   "metadata": {},
   "outputs": [],
   "source": [
    "excel1 = \"corpus_three_annot.xlsx\"\n",
    "excel2 = \"corpus_two_annot.xlsx\"\n",
    "corpus1 = pd.read_excel(excel1)\n",
    "corpus2 = pd.read_excel(excel2)"
   ]
  },
  {
   "cell_type": "markdown",
   "id": "20c6c099",
   "metadata": {},
   "source": [
    "### 1. 1. Annotated corpus"
   ]
  },
  {
   "cell_type": "code",
   "execution_count": 3,
   "id": "8b4c354f",
   "metadata": {},
   "outputs": [
    {
     "name": "stdout",
     "output_type": "stream",
     "text": [
      "Lenght corpus 1 : 161\n"
     ]
    }
   ],
   "source": [
    "corpus1 = corpus1[[\"id_segment\", 'text_segment', \"relevance_label\", \"relevance_type_norm\"]]\n",
    "print(\"Lenght corpus 1 : {}\".format(len(corpus1.index)))"
   ]
  },
  {
   "cell_type": "code",
   "execution_count": 4,
   "id": "bded9906",
   "metadata": {},
   "outputs": [
    {
     "name": "stdout",
     "output_type": "stream",
     "text": [
      "Lenght corpus 2 : 169\n"
     ]
    }
   ],
   "source": [
    "corpus2 = corpus2[[\"id_segment\", 'text_segment', \"relevance_label\", \"relevance_type_norm\"]]\n",
    "print(\"Lenght corpus 2 : {}\".format(len(corpus2.index)))"
   ]
  },
  {
   "cell_type": "code",
   "execution_count": 5,
   "id": "53472b98",
   "metadata": {},
   "outputs": [
    {
     "data": {
      "text/plain": [
       "330"
      ]
     },
     "execution_count": 5,
     "metadata": {},
     "output_type": "execute_result"
    }
   ],
   "source": [
    "annotated_corpus = pd.concat([corpus1, corpus2])\n",
    "len(annotated_corpus.index)"
   ]
  },
  {
   "cell_type": "code",
   "execution_count": 6,
   "id": "a023b31b",
   "metadata": {},
   "outputs": [
    {
     "data": {
      "text/html": [
       "<div>\n",
       "<style scoped>\n",
       "    .dataframe tbody tr th:only-of-type {\n",
       "        vertical-align: middle;\n",
       "    }\n",
       "\n",
       "    .dataframe tbody tr th {\n",
       "        vertical-align: top;\n",
       "    }\n",
       "\n",
       "    .dataframe thead th {\n",
       "        text-align: right;\n",
       "    }\n",
       "</style>\n",
       "<table border=\"1\" class=\"dataframe\">\n",
       "  <thead>\n",
       "    <tr style=\"text-align: right;\">\n",
       "      <th></th>\n",
       "      <th>relevance_label</th>\n",
       "    </tr>\n",
       "  </thead>\n",
       "  <tbody>\n",
       "    <tr>\n",
       "      <th>0</th>\n",
       "      <td>218</td>\n",
       "    </tr>\n",
       "    <tr>\n",
       "      <th>1</th>\n",
       "      <td>71</td>\n",
       "    </tr>\n",
       "    <tr>\n",
       "      <th>2</th>\n",
       "      <td>41</td>\n",
       "    </tr>\n",
       "  </tbody>\n",
       "</table>\n",
       "</div>"
      ],
      "text/plain": [
       "   relevance_label\n",
       "0              218\n",
       "1               71\n",
       "2               41"
      ]
     },
     "execution_count": 6,
     "metadata": {},
     "output_type": "execute_result"
    }
   ],
   "source": [
    "pd.DataFrame(annotated_corpus[\"relevance_label\"].value_counts())"
   ]
  },
  {
   "cell_type": "code",
   "execution_count": 7,
   "id": "6b9db6d9",
   "metadata": {},
   "outputs": [
    {
     "data": {
      "text/html": [
       "<div>\n",
       "<style scoped>\n",
       "    .dataframe tbody tr th:only-of-type {\n",
       "        vertical-align: middle;\n",
       "    }\n",
       "\n",
       "    .dataframe tbody tr th {\n",
       "        vertical-align: top;\n",
       "    }\n",
       "\n",
       "    .dataframe thead th {\n",
       "        text-align: right;\n",
       "    }\n",
       "</style>\n",
       "<table border=\"1\" class=\"dataframe\">\n",
       "  <thead>\n",
       "    <tr style=\"text-align: right;\">\n",
       "      <th></th>\n",
       "      <th>id_segment</th>\n",
       "      <th>text_segment</th>\n",
       "      <th>relevance_label</th>\n",
       "      <th>relevance_type_norm</th>\n",
       "    </tr>\n",
       "  </thead>\n",
       "  <tbody>\n",
       "    <tr>\n",
       "      <th>0</th>\n",
       "      <td>1-s2.0-S0301479717300713-main_226b</td>\n",
       "      <td>#text': '(Lambin et al., 2003)'}], '#text': 'W...</td>\n",
       "      <td>0</td>\n",
       "      <td>NaN</td>\n",
       "    </tr>\n",
       "    <tr>\n",
       "      <th>1</th>\n",
       "      <td>1-s2.0-S0303243414001718-main_19b</td>\n",
       "      <td>#text': 'After the droughts in the 1970s and 1...</td>\n",
       "      <td>2</td>\n",
       "      <td>LULCC, DRIVERS</td>\n",
       "    </tr>\n",
       "    <tr>\n",
       "      <th>2</th>\n",
       "      <td>1-s2.0-S030438781000043X-mainext_313b</td>\n",
       "      <td>#text': 'Few investment opportunities are avai...</td>\n",
       "      <td>0</td>\n",
       "      <td>NaN</td>\n",
       "    </tr>\n",
       "    <tr>\n",
       "      <th>3</th>\n",
       "      <td>1-s2.0-S095937809800003X-main_75b</td>\n",
       "      <td>#text': 'Pastoral production has often existed...</td>\n",
       "      <td>1</td>\n",
       "      <td>PRACTICES</td>\n",
       "    </tr>\n",
       "    <tr>\n",
       "      <th>4</th>\n",
       "      <td>1-s2.0-S0006320709005400-main_16b</td>\n",
       "      <td>#text': 'The forests of West and Central Afric...</td>\n",
       "      <td>2</td>\n",
       "      <td>LULC</td>\n",
       "    </tr>\n",
       "  </tbody>\n",
       "</table>\n",
       "</div>"
      ],
      "text/plain": [
       "                              id_segment  \\\n",
       "0     1-s2.0-S0301479717300713-main_226b   \n",
       "1      1-s2.0-S0303243414001718-main_19b   \n",
       "2  1-s2.0-S030438781000043X-mainext_313b   \n",
       "3      1-s2.0-S095937809800003X-main_75b   \n",
       "4      1-s2.0-S0006320709005400-main_16b   \n",
       "\n",
       "                                        text_segment  relevance_label  \\\n",
       "0  #text': '(Lambin et al., 2003)'}], '#text': 'W...                0   \n",
       "1  #text': 'After the droughts in the 1970s and 1...                2   \n",
       "2  #text': 'Few investment opportunities are avai...                0   \n",
       "3  #text': 'Pastoral production has often existed...                1   \n",
       "4  #text': 'The forests of West and Central Afric...                2   \n",
       "\n",
       "  relevance_type_norm  \n",
       "0                 NaN  \n",
       "1      LULCC, DRIVERS  \n",
       "2                 NaN  \n",
       "3           PRACTICES  \n",
       "4                LULC  "
      ]
     },
     "execution_count": 7,
     "metadata": {},
     "output_type": "execute_result"
    }
   ],
   "source": [
    "annotated_corpus.head()"
   ]
  },
  {
   "cell_type": "markdown",
   "id": "138a0cc1",
   "metadata": {},
   "source": [
    "### 1. 2. All corpus"
   ]
  },
  {
   "cell_type": "code",
   "execution_count": 8,
   "id": "a72e4d1c",
   "metadata": {},
   "outputs": [],
   "source": [
    "all_corpus = pd.read_excel(\"all_corpus_processed.xlsx\")"
   ]
  },
  {
   "cell_type": "code",
   "execution_count": 9,
   "id": "7ddf18b6",
   "metadata": {},
   "outputs": [
    {
     "data": {
      "text/plain": [
       "20345"
      ]
     },
     "execution_count": 9,
     "metadata": {},
     "output_type": "execute_result"
    }
   ],
   "source": [
    "len(all_corpus.index)"
   ]
  },
  {
   "cell_type": "markdown",
   "id": "8914bf08",
   "metadata": {},
   "source": [
    "### 1.3. Cleaning text"
   ]
  },
  {
   "cell_type": "code",
   "execution_count": 10,
   "id": "e9f5edf6",
   "metadata": {},
   "outputs": [],
   "source": [
    "def clean_text(text):\n",
    "    text = str(text)\n",
    "    # Use a regular expression to find and remove anything between curly braces\n",
    "    cleaned_text = re.sub(r'\\{.*?\\}', ' ', text)\n",
    "\n",
    "    # Use a regular expression to remove all occurrences of '#text':\n",
    "    cleaned_text = re.sub(r\"'#text':\", '', cleaned_text)\n",
    "\n",
    "    cleaned_text = re.sub(r\"'#text':\", '', cleaned_text)\n",
    "    # Use a regular expression to remove all occurrences of '@xmlns':\n",
    "    cleaned_text = re.sub(r\"'@xmlns':\", '', cleaned_text)\n",
    "\n",
    "    # Use a regular expression to remove all occurrences of '<variable>: {'\n",
    "    cleaned_text = re.sub(r\"'\\w+':\\s*\", ' ', cleaned_text)\n",
    "\n",
    "    # Remove any sequence of more than two special characters or spaces\n",
    "    cleaned_text = re.sub(r'[^a-zA-Z0-9 .%]+', ' ', cleaned_text)\n",
    "\n",
    "    # Clean up excessive spaces\n",
    "    cleaned_text = re.sub(r'\\s+', ' ', cleaned_text).strip()\n",
    "    \n",
    "    return cleaned_text"
   ]
  },
  {
   "cell_type": "code",
   "execution_count": 12,
   "id": "4c8af7d9",
   "metadata": {},
   "outputs": [],
   "source": [
    "annotated_corpus['cleaned_text'] = annotated_corpus['text_segment'].apply(clean_text)"
   ]
  },
  {
   "cell_type": "markdown",
   "id": "6e191d46",
   "metadata": {},
   "source": [
    "## 2. Entity extraction"
   ]
  },
  {
   "cell_type": "code",
   "execution_count": 13,
   "id": "402614ef",
   "metadata": {},
   "outputs": [],
   "source": [
    "import spacy\n",
    "import json\n",
    "from spacy.matcher import Matcher\n",
    "from spacy.pipeline import EntityRuler\n",
    "from spacy.tokens import Span\n",
    "from spacy.util import filter_spans"
   ]
  },
  {
   "cell_type": "markdown",
   "id": "b9659605",
   "metadata": {},
   "source": [
    "### 2.1. Nomenclature"
   ]
  },
  {
   "cell_type": "code",
   "execution_count": 14,
   "id": "37d572f0",
   "metadata": {},
   "outputs": [],
   "source": [
    "# Extraction of a list of words, based on their lemma:\n",
    "lulc_voc = pd.read_csv(\"data/LULC.csv\")\n",
    "lulc_voc = list(set([x.strip() for x in lulc_voc['LULC'] ]))\n",
    "lulc_process = pd.read_csv(\"data/LCprocess.csv\")\n",
    "lulc_process = [x.strip() for x in lulc_process['process'] ]"
   ]
  },
  {
   "cell_type": "markdown",
   "id": "48e5daae",
   "metadata": {},
   "source": [
    "### 2.2. NER pipeline"
   ]
  },
  {
   "cell_type": "code",
   "execution_count": 15,
   "id": "1a2b10d6",
   "metadata": {},
   "outputs": [],
   "source": [
    "\n",
    "nlp = spacy.load(\"en_core_web_sm\")\n",
    "\n",
    "patterns = [\n",
    "    {\n",
    "        \"label\": \"SURFACE_UNIT\",\n",
    "        \"pattern\": [{\"LOWER\": {'REGEX': \"(kilometers|km²|ha|acres|hectares)[ .]?\"}}]\n",
    "    },\n",
    "\n",
    "        {\n",
    "        \"label\": \"COORDINATES\",\n",
    "        \"pattern\": [{\"TEXT\":{'REGEX': r'\\b\\d{1,3}\\s*°\\s*[NSEW]\\s*–\\s*\\d{1,3}\\s*°\\s*[NSEW]\\b'}}]\n",
    "    },\n",
    "    {\"label\": \"CHANGE\", \"pattern\": [{\"LEMMA\": \"(increase|decrease|loss|losses|gain|gains|expansion|expand)\"}]},\n",
    "\n",
    "        {\n",
    "        \"label\": \"CHANGE\",\n",
    "        \"pattern\": [{\"LOWER\": {'REGEX': \"(increase|decrease|south|loss|losses|gain|gains|expansion|expand)[ .]?\"}}]\n",
    "    }\n",
    "]\n",
    "\n",
    "\n",
    "\n",
    "# Initialiser l'EntityRuler et ajouter les modèles\n",
    "ruler = nlp.add_pipe(\"entity_ruler\", before=\"ner\")\n",
    "\n",
    "\n",
    "# Add the custom component to the pipeline\n",
    "ruler.add_patterns(patterns)\n",
    "\n",
    "\n",
    "# Generate patterns dynamically\n",
    "def create_pattern_sw(list_of_words, label) :\n",
    "    pattern_list = []\n",
    "    \n",
    "    # single_words\n",
    "    single_words = [w for w in list_of_words if len(w.split(' ')) == 1]\n",
    "    \n",
    "    pattern_list = [{\"label\": label, \"pattern\": [{\"TEXT\": word}]} for word in single_words]\n",
    "    pattern_list = pattern_list + [{\"label\": label, \"pattern\": [{\"LEMMA\": word}]} for word in single_words]     \n",
    "   \n",
    "    return(pattern_list)\n",
    "\n",
    "lulc_pattern = create_pattern_sw(lulc_voc, label = 'LULC')\n",
    "lulc_process_pattern = create_pattern_sw(lulc_process, label = 'LULC_process')\n",
    "\n",
    "# Add the custom component to the pipeline\n",
    "ruler.add_patterns(lulc_pattern)\n",
    "ruler.add_patterns(lulc_process_pattern)\n",
    "\n",
    "\n",
    "\n",
    "def extract_entities(text):\n",
    "    rows = list()\n",
    "\n",
    "    # Tester la pipeline\n",
    "\n",
    "    # Tester la pipeline\n",
    "    doc = nlp(text)\n",
    "\n",
    "\n",
    "    # with all the entities extracted, except multiwords\n",
    "    original_ents = list(doc.ents)\n",
    "\n",
    "\n",
    "    # ____________________________________________\n",
    "    # Add this part at the end of your entity extraction pipeline\n",
    "    # ____________________________________________\n",
    "\n",
    "     # single_words\n",
    "    multi_words_process = [w for w in lulc_process if len(w.split(' ')) > 1]\n",
    "    multi_words_lemma_process = [\" \".join([token.lemma_ for token in nlp(w)]) for w in multi_words_process]\n",
    "\n",
    "    mwt_ents = []\n",
    "    for mw in multi_words_process :\n",
    "        for match in re.finditer(mw, doc.text):\n",
    "            start, end = match.span()\n",
    "            span = doc.char_span(start, end)\n",
    "            if span is not None:\n",
    "                mwt_ents.append((span.start, span.end, span.text))\n",
    "    for mw in multi_words_lemma_process :\n",
    "        for match in re.finditer(mw, doc.text):\n",
    "            start, end = match.span()\n",
    "            span = doc.char_span(start, end)\n",
    "            if span is not None:\n",
    "                mwt_ents.append((span.start, span.end, span.text))\n",
    "\n",
    "    for ent in mwt_ents:\n",
    "        start, end, name = ent\n",
    "        per_ent = Span(doc, start, end, label=\"LULC_process\")\n",
    "        original_ents.append(per_ent)\n",
    "\n",
    "     # single_words\n",
    "    multi_words_lulc = [w for w in lulc_voc if len(w.split(' ')) > 1]\n",
    "    multi_words_lemma_lulc = [\" \".join([token.lemma_ for token in nlp(w)]) for w in multi_words_lulc]\n",
    "\n",
    "    mwt_ents = []\n",
    "    for mw in multi_words_lulc :\n",
    "        for match in re.finditer(mw, doc.text):\n",
    "            start, end = match.span()\n",
    "            span = doc.char_span(start, end)\n",
    "            if span is not None:\n",
    "                mwt_ents.append((span.start, span.end, span.text))\n",
    "    for mw in multi_words_lemma_lulc :\n",
    "        for match in re.finditer(mw, doc.text):\n",
    "            start, end = match.span()\n",
    "            span = doc.char_span(start, end)\n",
    "            if span is not None:\n",
    "                mwt_ents.append((span.start, span.end, span.text))\n",
    "\n",
    "    for ent in mwt_ents:\n",
    "        start, end, name = ent\n",
    "        per_ent = Span(doc, start, end, label=\"LULC\")\n",
    "        original_ents.append(per_ent)    \n",
    "    #pour ne retenir que les spans le splus longs:\n",
    "    \n",
    "    filtered = filter_spans(original_ents)\n",
    "    doc.ents = filtered\n",
    "\n",
    "    # Ajouter l'EntityRuler à la pipeline\n",
    "\n",
    "    for ent in doc.ents:\n",
    "        rows.append((ent.text, ent.label_))\n",
    "    return(pd.DataFrame(rows))"
   ]
  },
  {
   "cell_type": "code",
   "execution_count": 16,
   "id": "a51fec15",
   "metadata": {},
   "outputs": [
    {
     "name": "stderr",
     "output_type": "stream",
     "text": [
      "330it [03:52,  1.42it/s]\n"
     ]
    }
   ],
   "source": [
    "from tqdm import tqdm\n",
    "\n",
    "df_entities = pd.DataFrame()\n",
    "\n",
    "for i, row in tqdm(annotated_corpus.iterrows()) :\n",
    "    df_tmp = extract_entities(row['cleaned_text'])\n",
    "    df_tmp['id_segment'] = row['id_segment']\n",
    "    df_tmp['relevance'] = row['relevance_label']\n",
    "    df_entities = pd.concat([df_entities, df_tmp])"
   ]
  },
  {
   "cell_type": "code",
   "execution_count": 17,
   "id": "b464d4b6",
   "metadata": {},
   "outputs": [],
   "source": [
    "df_entities.columns = ['value', 'entity_label', \"id_segment\", \"relevance\"]"
   ]
  },
  {
   "cell_type": "code",
   "execution_count": 18,
   "id": "c2f49c56",
   "metadata": {},
   "outputs": [
    {
     "data": {
      "text/html": [
       "<div>\n",
       "<style scoped>\n",
       "    .dataframe tbody tr th:only-of-type {\n",
       "        vertical-align: middle;\n",
       "    }\n",
       "\n",
       "    .dataframe tbody tr th {\n",
       "        vertical-align: top;\n",
       "    }\n",
       "\n",
       "    .dataframe thead th {\n",
       "        text-align: right;\n",
       "    }\n",
       "</style>\n",
       "<table border=\"1\" class=\"dataframe\">\n",
       "  <thead>\n",
       "    <tr style=\"text-align: right;\">\n",
       "      <th></th>\n",
       "      <th>value</th>\n",
       "      <th>entity_label</th>\n",
       "      <th>id_segment</th>\n",
       "      <th>relevance</th>\n",
       "    </tr>\n",
       "  </thead>\n",
       "  <tbody>\n",
       "    <tr>\n",
       "      <th>0</th>\n",
       "      <td>Lambin et al</td>\n",
       "      <td>PERSON</td>\n",
       "      <td>1-s2.0-S0301479717300713-main_226b</td>\n",
       "      <td>0</td>\n",
       "    </tr>\n",
       "    <tr>\n",
       "      <th>1</th>\n",
       "      <td>2003</td>\n",
       "      <td>DATE</td>\n",
       "      <td>1-s2.0-S0301479717300713-main_226b</td>\n",
       "      <td>0</td>\n",
       "    </tr>\n",
       "    <tr>\n",
       "      <th>2</th>\n",
       "      <td>LULCC</td>\n",
       "      <td>ORG</td>\n",
       "      <td>1-s2.0-S0301479717300713-main_226b</td>\n",
       "      <td>0</td>\n",
       "    </tr>\n",
       "    <tr>\n",
       "      <th>0</th>\n",
       "      <td>the 1970s</td>\n",
       "      <td>DATE</td>\n",
       "      <td>1-s2.0-S0303243414001718-main_19b</td>\n",
       "      <td>2</td>\n",
       "    </tr>\n",
       "    <tr>\n",
       "      <th>1</th>\n",
       "      <td>1980s</td>\n",
       "      <td>DATE</td>\n",
       "      <td>1-s2.0-S0303243414001718-main_19b</td>\n",
       "      <td>2</td>\n",
       "    </tr>\n",
       "    <tr>\n",
       "      <th>...</th>\n",
       "      <td>...</td>\n",
       "      <td>...</td>\n",
       "      <td>...</td>\n",
       "      <td>...</td>\n",
       "    </tr>\n",
       "    <tr>\n",
       "      <th>1</th>\n",
       "      <td>urban</td>\n",
       "      <td>LULC</td>\n",
       "      <td>1-s2.0-S0304387816300670-main_6</td>\n",
       "      <td>0</td>\n",
       "    </tr>\n",
       "    <tr>\n",
       "      <th>0</th>\n",
       "      <td>loss</td>\n",
       "      <td>CHANGE</td>\n",
       "      <td>1-s2.0-S0006320709005400-main_162</td>\n",
       "      <td>0</td>\n",
       "    </tr>\n",
       "    <tr>\n",
       "      <th>1</th>\n",
       "      <td>forest</td>\n",
       "      <td>LULC</td>\n",
       "      <td>1-s2.0-S0006320709005400-main_162</td>\n",
       "      <td>0</td>\n",
       "    </tr>\n",
       "    <tr>\n",
       "      <th>2</th>\n",
       "      <td>tree</td>\n",
       "      <td>LULC</td>\n",
       "      <td>1-s2.0-S0006320709005400-main_162</td>\n",
       "      <td>0</td>\n",
       "    </tr>\n",
       "    <tr>\n",
       "      <th>3</th>\n",
       "      <td>Fig</td>\n",
       "      <td>PERSON</td>\n",
       "      <td>1-s2.0-S0006320709005400-main_162</td>\n",
       "      <td>0</td>\n",
       "    </tr>\n",
       "  </tbody>\n",
       "</table>\n",
       "<p>1414 rows × 4 columns</p>\n",
       "</div>"
      ],
      "text/plain": [
       "           value entity_label                          id_segment  relevance\n",
       "0   Lambin et al       PERSON  1-s2.0-S0301479717300713-main_226b          0\n",
       "1           2003         DATE  1-s2.0-S0301479717300713-main_226b          0\n",
       "2          LULCC          ORG  1-s2.0-S0301479717300713-main_226b          0\n",
       "0      the 1970s         DATE   1-s2.0-S0303243414001718-main_19b          2\n",
       "1          1980s         DATE   1-s2.0-S0303243414001718-main_19b          2\n",
       "..           ...          ...                                 ...        ...\n",
       "1          urban         LULC     1-s2.0-S0304387816300670-main_6          0\n",
       "0           loss       CHANGE   1-s2.0-S0006320709005400-main_162          0\n",
       "1         forest         LULC   1-s2.0-S0006320709005400-main_162          0\n",
       "2           tree         LULC   1-s2.0-S0006320709005400-main_162          0\n",
       "3            Fig       PERSON   1-s2.0-S0006320709005400-main_162          0\n",
       "\n",
       "[1414 rows x 4 columns]"
      ]
     },
     "execution_count": 18,
     "metadata": {},
     "output_type": "execute_result"
    }
   ],
   "source": [
    "df_entities"
   ]
  },
  {
   "cell_type": "code",
   "execution_count": 19,
   "id": "1577f272",
   "metadata": {},
   "outputs": [],
   "source": [
    "entities_keep = ['CHANGE', 'LULC_process','CARDINAL','LOC', 'DATE', 'LULC','PERCENT', 'GPE', 'NORP', 'SURFACE_UNIT']"
   ]
  },
  {
   "cell_type": "code",
   "execution_count": 20,
   "id": "c285595c",
   "metadata": {},
   "outputs": [],
   "source": [
    "df_entities_sub = df_entities[df_entities['entity_label'].isin(entities_keep)]"
   ]
  },
  {
   "cell_type": "code",
   "execution_count": 21,
   "id": "715ccf99",
   "metadata": {},
   "outputs": [],
   "source": [
    "def replace_loc(x):\n",
    "    if (x == 'GPE' or x == 'NORP') :\n",
    "        return('LOC')\n",
    "    else :\n",
    "        return(x)"
   ]
  },
  {
   "cell_type": "code",
   "execution_count": 22,
   "id": "b44077fa",
   "metadata": {},
   "outputs": [
    {
     "name": "stderr",
     "output_type": "stream",
     "text": [
      "C:\\Users\\valentin\\AppData\\Local\\Temp\\ipykernel_5160\\4213499162.py:1: SettingWithCopyWarning: \n",
      "A value is trying to be set on a copy of a slice from a DataFrame.\n",
      "Try using .loc[row_indexer,col_indexer] = value instead\n",
      "\n",
      "See the caveats in the documentation: https://pandas.pydata.org/pandas-docs/stable/user_guide/indexing.html#returning-a-view-versus-a-copy\n",
      "  df_entities_sub['entity_label'] = df_entities_sub['entity_label'].apply(lambda x:replace_loc(x))\n"
     ]
    }
   ],
   "source": [
    "df_entities_sub['entity_label'] = df_entities_sub['entity_label'].apply(lambda x:replace_loc(x))"
   ]
  },
  {
   "cell_type": "code",
   "execution_count": null,
   "id": "10bc23f7",
   "metadata": {},
   "outputs": [],
   "source": [
    "import pandas as pd\n",
    "import seaborn as sns\n",
    "import matplotlib.pyplot as plt\n",
    "\n",
    "# Étape 1 : Compter le nombre de lignes par segment pour chaque relevance\n",
    "segment_counts = df_entities_sub.groupby(['id_segment', 'relevance']).size().reset_index(name='count')\n",
    "\n",
    "# Étape 2 : Créer un boxplot pour visualiser la distribution des comptes par relevance\n",
    "plt.figure(figsize=(10, 6))\n",
    "sns.boxplot(x='relevance', y='count', data=segment_counts, palette='pastel')\n",
    "\n",
    "# Titre et labels\n",
    "plt.title('Distribution du nombre d\\'entités par segment')\n",
    "plt.xlabel('Pertinence')\n",
    "plt.ylabel('Nombre d\\'entités par segment')\n",
    "plt.xticks(ticks=[0, 1, 2], labels=['Classe 0', 'Classe 1', 'Classe 2'])\n",
    "# Afficher le graphique\n",
    "# Exporter la figure\n",
    "plt.savefig('nombre_moyen_occurrences_labels.png', bbox_inches='tight', dpi=300)  # Spécifiez le nom du fichier et les \n",
    "plt.show()"
   ]
  },
  {
   "cell_type": "code",
   "execution_count": 298,
   "id": "eade23a0",
   "metadata": {},
   "outputs": [
    {
     "data": {
      "text/plain": [
       "<Axes: xlabel='count', ylabel='entity_label'>"
      ]
     },
     "execution_count": 298,
     "metadata": {},
     "output_type": "execute_result"
    },
    {
     "data": {
      "image/png": "[encoded data removed]",
      "text/plain": [
       "<Figure size 1200x600 with 1 Axes>"
      ]
     },
     "metadata": {},
     "output_type": "display_data"
    }
   ],
   "source": [
    "# Étape 1 : Compter le nombre d'occurrences de chaque label d'entité par segment\n",
    "label_counts = df_entities_sub[df_entities_sub['relevance']==2].groupby(['id_segment', 'entity_label']).size().reset_index(name='count')\n",
    "\n",
    "# Étape 2 : Calculer la moyenne des occurrences pour chaque label\n",
    "mean_counts = label_counts.groupby('entity_label')['count'].sum().reset_index()\n",
    "\n",
    "# Étape 3 : Créer un barplot des moyennes par label d'entité\n",
    "plt.figure(figsize=(12, 6))\n",
    "sns.barplot(x='count', y='entity_label', data=mean_counts, palette='pastel')\n"
   ]
  },
  {
   "cell_type": "code",
   "execution_count": 340,
   "id": "1a6f2117",
   "metadata": {},
   "outputs": [
    {
     "data": {
      "text/plain": [
       "31"
      ]
     },
     "execution_count": 340,
     "metadata": {},
     "output_type": "execute_result"
    }
   ],
   "source": [
    "len(set(label_counts[(label_counts['relevance'] ==2)]['id_segment'].tolist()))"
   ]
  },
  {
   "cell_type": "code",
   "execution_count": 341,
   "id": "60bf1f9d",
   "metadata": {},
   "outputs": [
    {
     "data": {
      "text/plain": [
       "8"
      ]
     },
     "execution_count": 341,
     "metadata": {},
     "output_type": "execute_result"
    }
   ],
   "source": [
    "len(set(label_counts[(label_counts['relevance'] ==2) & (label_counts['entity_label'] == 'LULC_process') & (label_counts['count'] >0)]['id_segment'].tolist()))"
   ]
  },
  {
   "cell_type": "code",
   "execution_count": 342,
   "id": "0818e136",
   "metadata": {},
   "outputs": [
    {
     "data": {
      "text/plain": [
       "7"
      ]
     },
     "execution_count": 342,
     "metadata": {},
     "output_type": "execute_result"
    }
   ],
   "source": [
    "len(set(label_counts[(label_counts['relevance'] ==2) & (label_counts['entity_label'] == 'PERCENT') & (label_counts['count'] >0)]['id_segment'].tolist()))"
   ]
  },
  {
   "cell_type": "code",
   "execution_count": 338,
   "id": "ed420794",
   "metadata": {},
   "outputs": [
    {
     "data": {
      "text/plain": [
       "10"
      ]
     },
     "execution_count": 338,
     "metadata": {},
     "output_type": "execute_result"
    }
   ],
   "source": [
    "len(set(label_counts[(label_counts['relevance'] ==2) & (label_counts['entity_label'] == 'LOC') & (label_counts['count'] >0)]['id_segment'].tolist()))"
   ]
  },
  {
   "cell_type": "code",
   "execution_count": 339,
   "id": "80609165",
   "metadata": {},
   "outputs": [
    {
     "data": {
      "text/plain": [
       "12"
      ]
     },
     "execution_count": 339,
     "metadata": {},
     "output_type": "execute_result"
    }
   ],
   "source": [
    "len(set(label_counts[(label_counts['relevance'] ==2) & (label_counts['entity_label'] == 'DATE') & (label_counts['count'] >0)]['id_segment'].tolist()))"
   ]
  }
 ],
 "metadata": {
  "kernelspec": {
   "display_name": "Python 3 (ipykernel)",
   "language": "python",
   "name": "python3"
  },
  "language_info": {
   "codemirror_mode": {
    "name": "ipython",
    "version": 3
   },
   "file_extension": ".py",
   "mimetype": "text/x-python",
   "name": "python",
   "nbconvert_exporter": "python",
   "pygments_lexer": "ipython3",
   "version": "3.10.9"
  }
 },
 "nbformat": 4,
 "nbformat_minor": 5
}
